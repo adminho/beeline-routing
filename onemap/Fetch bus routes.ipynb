{
 "cells": [
  {
   "cell_type": "code",
   "execution_count": null,
   "metadata": {
    "collapsed": false
   },
   "outputs": [],
   "source": [
    "import requests"
   ]
  },
  {
   "cell_type": "code",
   "execution_count": null,
   "metadata": {
    "collapsed": true
   },
   "outputs": [],
   "source": [
    "auth = '1hMEqSwhQWWRo88SupMVzQ==', '6b2ffab0-5916-4a20-a0d7-8f9824627d7b'"
   ]
  },
  {
   "cell_type": "code",
   "execution_count": null,
   "metadata": {
    "collapsed": true
   },
   "outputs": [],
   "source": [
    "from httplib import HTTPConnection\n",
    "import json\n",
    "\n",
    "known_services = [\n",
    "'BusStops'\n",
    "]\n",
    "\n",
    "credentials = {\n",
    "    \"api_token\": None,\n",
    "    \"uuid\": None\n",
    "}\n",
    "\n",
    "def authenticate(api_token, uuid):\n",
    "    credentials['api_token'] = api_token\n",
    "    credentials['uuid'] = uuid\n",
    "\n",
    "def get(service, start = 0, end=None):\n",
    "    conn = HTTPConnection('datamall2.mytransport.sg')\n",
    "\n",
    "    return_value = []\n",
    "\n",
    "    while end == None or start < end:\n",
    "        print  '/ltaodataservice/%s?$skip=%i' % (service, start)\n",
    "        conn.request('GET', '/ltaodataservice/%s?$skip=%i' % (service, start),\n",
    "            headers = {\n",
    "                'AccountKey': credentials['api_token'],\n",
    "                'UniqueUserId': credentials['uuid'],\n",
    "                'Accept': 'application/json'\n",
    "            })\n",
    "\n",
    "        resp = conn.getresponse()\n",
    "        headers = resp.getheaders()\n",
    "        body = resp.read()\n",
    "\n",
    "        data = json.loads(body)\n",
    "\n",
    "        return_value += data['value']\n",
    "\n",
    "        if len(data['value']) == 0:\n",
    "            break\n",
    "\n",
    "        start += 50\n",
    "\n",
    "    return return_value"
   ]
  },
  {
   "cell_type": "code",
   "execution_count": null,
   "metadata": {
    "collapsed": true
   },
   "outputs": [],
   "source": [
    "authenticate(*auth)"
   ]
  },
  {
   "cell_type": "code",
   "execution_count": null,
   "metadata": {
    "collapsed": false
   },
   "outputs": [],
   "source": [
    "BusRoutes = get('BusRoutes')"
   ]
  },
  {
   "cell_type": "code",
   "execution_count": null,
   "metadata": {
    "collapsed": false
   },
   "outputs": [],
   "source": [
    "BusStops = get('BusStops')"
   ]
  },
  {
   "cell_type": "code",
   "execution_count": null,
   "metadata": {
    "collapsed": false
   },
   "outputs": [],
   "source": [
    "import itertools as it\n",
    "\n",
    "stopsByRoute = [ (k, list(v)) for k, v in it.groupby(BusRoutes, lambda x : (x['ServiceNo'], x['Direction']))]\n",
    "stopsByRoute = [ (k, sorted(v, key=lambda x:x['StopSequence'])) for k,v in stopsByRoute]\n",
    "stopsByRoute[0]"
   ]
  },
  {
   "cell_type": "code",
   "execution_count": null,
   "metadata": {
    "collapsed": false
   },
   "outputs": [],
   "source": [
    "# obtain the (prev, next) pairs\n",
    "def prev_next(bus_stops):\n",
    "    for a,b in zip(bus_stops, bus_stops[1:]):\n",
    "        yield a['BusStopCode'], b['BusStopCode']\n",
    "\n",
    "stop_pairs = [list(prev_next(sbr[1])) for sbr in stopsByRoute]\n",
    "stop_pairs = [x for y in stop_pairs for x in y ]\n",
    "stop_pairs = [x for x in stop_pairs if not x[0].startswith('E') and not x[1].startswith('E')]\n",
    "stop_pairs = list(set(stop_pairs))"
   ]
  },
  {
   "cell_type": "code",
   "execution_count": null,
   "metadata": {
    "collapsed": true
   },
   "outputs": [],
   "source": [
    "import pyproj\n",
    "svy = pyproj.Proj(init='epsg:3414')"
   ]
  },
  {
   "cell_type": "code",
   "execution_count": null,
   "metadata": {
    "collapsed": false
   },
   "outputs": [],
   "source": [
    "# pull additional bus stops from One Map\n",
    "import gzip\n",
    "import pickle\n",
    "\n",
    "om_bus_stops = pickle.load(gzip.open('../1mbs/busstops2.pickle.gz'))\n",
    "om_bus_stops = [r['SearchResults'][1:] for r in om_bus_stops if len(r['SearchResults']) > 1]\n",
    "om_bus_stops = [x for y in om_bus_stops for x in y]\n",
    "om_bus_stops = [x for x in om_bus_stops if x['SEARCHVAL'].endswith(' (BUS STOP)')]\n",
    "for bs in om_bus_stops:\n",
    "    x,y = bs['X'], bs['Y']\n",
    "    lng,lat = svy(x,y, inverse=True)\n",
    "    \n",
    "    bs['Latitude'] = lat\n",
    "    bs['Longitude'] = lng\n",
    "    bs['BusStopCode'] = bs['SEARCHVAL'][0:5]\n",
    "    bs['Description'] = 'Bus Stop No. %s' % bs['BusStopCode']\n",
    "    bs['RoadName'] = '??'\n",
    "    \n",
    "\n",
    "om_bus_stops"
   ]
  },
  {
   "cell_type": "code",
   "execution_count": null,
   "metadata": {
    "collapsed": false
   },
   "outputs": [],
   "source": [
    "combined = om_bus_stops + BusStops\n",
    "\n",
    "# print [x for x in combined if x['BusStopCode'] == '42885']\n",
    "\n",
    "combined = [c for c in combined if c['Longitude'] != 0]\n",
    "stop_lat_lngs = {stop['BusStopCode']: stop for stop in combined}\n",
    "\n",
    "[s for s in combined if 'blk 3b' in s['Description'].lower()]"
   ]
  },
  {
   "cell_type": "code",
   "execution_count": null,
   "metadata": {
    "collapsed": true
   },
   "outputs": [],
   "source": [
    "# http://localhost:8989/route?\n",
    "#point=1.373846%2C103.880539&point=1.305887%2C103.805008&\n",
    "#type=json&key=&locale=en-US&vehicle=car&weighting=fastest&elevation=false"
   ]
  },
  {
   "cell_type": "code",
   "execution_count": null,
   "metadata": {
    "collapsed": true
   },
   "outputs": [],
   "source": [
    "import requests\n",
    "import polyline"
   ]
  },
  {
   "cell_type": "code",
   "execution_count": null,
   "metadata": {
    "collapsed": false
   },
   "outputs": [],
   "source": [
    "def make_request(pair):\n",
    "    ll1 = stop_lat_lngs[pair[0]]\n",
    "    ll2 = stop_lat_lngs[pair[1]]\n",
    "    \n",
    "    return ['%s,%s' % (ll1['Latitude'], ll1['Longitude']),\n",
    "            '%s,%s' % (ll2['Latitude'], ll2['Longitude'])]\n",
    "\n",
    "\n",
    "def get_route(stop_pair):\n",
    "    res = requests.get('http://localhost:8989/route',\n",
    "        params={\n",
    "            \"point\": [\n",
    "                make_request(stop_pair)\n",
    "            ],\n",
    "            \"type\": \"json\",\n",
    "            \"vehicle\": \"car\",\n",
    "            \"weighting\": \"fastest\",\n",
    "        })\n",
    "    \n",
    "    res = json.loads(res.text)\n",
    "    \n",
    "    if not 'paths' in res:\n",
    "        return None\n",
    "    \n",
    "    return polyline.decode(res['paths'][0]['points'])\n",
    "\n",
    "def has_stop_location(stop_pair):\n",
    "    return stop_pair[0] in stop_lat_lngs \\\n",
    "        and stop_pair[1] in stop_lat_lngs\n",
    "\n",
    "pair_routes = [(get_route(stop_pair), stop_pair) for stop_pair in stop_pairs if has_stop_location(stop_pair)]\n",
    "pair_routes = [x for x in pair_routes if x[0] != None]\n",
    "[a for a in pair_routes if a[1][0] == '14409']"
   ]
  },
  {
   "cell_type": "code",
   "execution_count": null,
   "metadata": {
    "collapsed": false
   },
   "outputs": [],
   "source": [
    "[a for a in pair_routes if a[1][1] == '14409'], \\\n",
    "[s for s in combined if s['BusStopCode'] == '15049'], \\\n",
    "[s for s in combined if s['BusStopCode'] == '14419'], \\"
   ]
  },
  {
   "cell_type": "code",
   "execution_count": null,
   "metadata": {
    "collapsed": false
   },
   "outputs": [],
   "source": [
    "import folium\n",
    "m = folium.Map(location=[1.38, 103.8], zoom_start=12)\n",
    "m.line(pair_routes[100][0])\n",
    "m"
   ]
  },
  {
   "cell_type": "code",
   "execution_count": null,
   "metadata": {
    "collapsed": false
   },
   "outputs": [],
   "source": [
    "import math\n",
    "\n",
    "def swap((x,y)):\n",
    "    return (y,x)\n",
    "\n",
    "def heading(ll1, ll2):\n",
    "    xy1 = svy(*swap(ll1))\n",
    "    xy2 = svy(*swap(ll2))\n",
    "    \n",
    "    return (xy2[0] - xy1[0], xy2[1] - xy1[1])\n",
    "\n",
    "def dedup(ls):\n",
    "    return [x for x,y in it.groupby(ls)]\n",
    "\n",
    "deduped_pair_routes = [\n",
    "    (dedup(path),stops) for path,stops in pair_routes\n",
    "]\n",
    "\n",
    "beginning_headings = [\n",
    "    (heading(path[0], path[1]), stops[0]) for path,stops in deduped_pair_routes\n",
    "]\n",
    "end_headings = [\n",
    "    (heading(path[-2], path[-1]), stops[1]) for path,stops in deduped_pair_routes\n",
    "]\n",
    "\n",
    "headings = beginning_headings + end_headings"
   ]
  },
  {
   "cell_type": "code",
   "execution_count": null,
   "metadata": {
    "collapsed": false
   },
   "outputs": [],
   "source": [
    "stop_headings = {x: list([z[0] for z in y]) for x,y in it.groupby(sorted(headings, key=lambda x:x[1]), key=lambda x:x[1])}"
   ]
  },
  {
   "cell_type": "code",
   "execution_count": null,
   "metadata": {
    "collapsed": false
   },
   "outputs": [],
   "source": [
    "stop_headings['14409']\n",
    "\n",
    "math.atan2(7.787889799787081, -210.09228901940878) / math.pi * 180"
   ]
  },
  {
   "cell_type": "code",
   "execution_count": null,
   "metadata": {
    "collapsed": true
   },
   "outputs": [],
   "source": [
    "multiple = [(s,x) for s,x in stop_headings.items() if len(x) > 1]"
   ]
  },
  {
   "cell_type": "code",
   "execution_count": null,
   "metadata": {
    "collapsed": false
   },
   "outputs": [],
   "source": [
    "def cosine_distance_to_first(ls):\n",
    "    def cosine_distance((a,b), (c,d)):\n",
    "        return (a*c + b*d) / math.sqrt(a*a + b*b) / math.sqrt(c*c + d*d)\n",
    "    \n",
    "    return [\n",
    "        cosine_distance(ls[0], l) for l in ls[1:]\n",
    "    ]\n",
    "\n",
    "multiple_headings = [ (s, cosine_distance_to_first(l)) for s,l in multiple]"
   ]
  },
  {
   "cell_type": "code",
   "execution_count": null,
   "metadata": {
    "collapsed": false
   },
   "outputs": [],
   "source": [
    "import numpy as np\n",
    "l = [ (s, similarities) for s, similarities in multiple_headings if np.min(similarities) < 0.9]\n",
    "l"
   ]
  },
  {
   "cell_type": "code",
   "execution_count": null,
   "metadata": {
    "collapsed": false
   },
   "outputs": [],
   "source": [
    "[s[0] for s in l]"
   ]
  },
  {
   "cell_type": "code",
   "execution_count": null,
   "metadata": {
    "collapsed": false
   },
   "outputs": [],
   "source": [
    "# Perform heading annotations\n",
    "\n",
    "from pymongo import MongoClient\n",
    "\n",
    "client = MongoClient()\n",
    "db = client.routing\n",
    "\n",
    "results = db.busStopHeading.find({\n",
    "        \"heading\": {\"$exists\": True},\n",
    "        \"BusStopCode\": {\"$in\": [s[0] for s in l]},\n",
    "        \"Longitude\": {\"$ne\": 0}\n",
    "    })\n",
    "heading_annotations = list(results)\n",
    "heading_annotations_by_stop = {a['BusStopCode']: a for a in heading_annotations}\n",
    "heading_annotations"
   ]
  },
  {
   "cell_type": "code",
   "execution_count": null,
   "metadata": {
    "collapsed": false
   },
   "outputs": [],
   "source": [
    "import numpy as np\n",
    "\n",
    "# Get the final list...\n",
    "def average_heading(xys):\n",
    "    acc = np.array([0.0, 0.0])\n",
    "    \n",
    "    for xy in xys:\n",
    "        xya = np.array(xy)\n",
    "        xy_normalized = xy / np.linalg.norm(xya)\n",
    "        \n",
    "        acc += xy_normalized\n",
    "        \n",
    "    return math.atan2(*acc)\n",
    "\n",
    "calculated = [ (s, average_heading(x)) for s, x in stop_headings.items()]\n",
    "\n",
    "def infer_heading_from_annotation(a):\n",
    "    (lat1,lng1), (lat2,lng2) = a['heading']\n",
    "    (lat,lng) = a['Latitude'], a['Longitude']\n",
    "\n",
    "    (xy1, xy2) = svy(lng1, lat1), svy(lng2, lat2)\n",
    "\n",
    "    return math.atan2(xy2[0] - xy1[0], xy2[1] - xy1[1])\n",
    "     \n",
    "     \n",
    "annotated = [ (a['BusStopCode'], infer_heading_from_annotation(a)) for a in heading_annotations ]\n",
    "\n",
    "all_headings = dict(calculated + annotated)\n",
    "all_headings['14409']"
   ]
  },
  {
   "cell_type": "code",
   "execution_count": null,
   "metadata": {
    "collapsed": true
   },
   "outputs": [],
   "source": []
  },
  {
   "cell_type": "code",
   "execution_count": null,
   "metadata": {
    "collapsed": false
   },
   "outputs": [],
   "source": [
    "# check the sanity of the calculated stop headings\n",
    "idx = 0\n",
    "c = stop_lat_lngs[calculated[idx][0]]\n",
    "print calculated[idx][1] / math.pi * 180\n",
    "\n",
    "loc = (c['Latitude'], c['Longitude'])\n",
    "m = folium.Map(location=loc, zoom_start=18)\n",
    "m.simple_marker(location=loc)\n",
    "m\n",
    "            "
   ]
  },
  {
   "cell_type": "code",
   "execution_count": null,
   "metadata": {
    "collapsed": false
   },
   "outputs": [],
   "source": [
    "# check the sanity of the annotations\n",
    "idx = 10\n",
    "c = stop_lat_lngs[annotated[idx][0]]\n",
    "print annotated[idx][1] / math.pi * 180\n",
    "\n",
    "loc = (c['Latitude'], c['Longitude'])\n",
    "m = folium.Map(location=loc, zoom_start=18)\n",
    "m.simple_marker(location=loc)\n",
    "m"
   ]
  },
  {
   "cell_type": "code",
   "execution_count": null,
   "metadata": {
    "collapsed": false
   },
   "outputs": [],
   "source": [
    "# Update stops with the latlng inferred from annotation\n",
    "def update(stop):\n",
    "    if stop['BusStopCode'] not in heading_annotations_by_stop:\n",
    "        return stop\n",
    "    \n",
    "    a = heading_annotations_by_stop[stop['BusStopCode']]\n",
    "    \n",
    "    # clone the dict\n",
    "    d = dict(stop.items())\n",
    "     \n",
    "    # update the lat, lng\n",
    "    (lat1,lng1), (lat2,lng2) = a['heading']\n",
    "    (lat,lng) = a['Latitude'], a['Longitude']\n",
    "\n",
    "    xy1, xy2 = svy(lng1, lat1), svy(lng2, lat2)\n",
    "    x,y = svy(lng, lat)\n",
    "\n",
    "    # project x,y onto the line xy1-xy2\n",
    "    length = math.sqrt((xy2[0] - xy1[0]) * (xy2[0] - xy1[0]) + (xy2[1] - xy1[1]) * (xy2[1] - xy1[1]))\n",
    "    n = (xy2[0] - xy1[0]) / length, (xy2[1] - xy1[1]) / length\n",
    "\n",
    "    diff = x-xy1[0], y-xy1[1]\n",
    "\n",
    "    projected_length = np.dot(diff, n)\n",
    "\n",
    "    px = xy1[0] + n[0] * projected_length\n",
    "    py = xy1[1] + n[1] * projected_length\n",
    "    \n",
    "    upd_lng, upd_lat = svy(px, py, inverse=True)\n",
    "    \n",
    "    d['Latitude'] = upd_lat\n",
    "    d['Longitude'] = upd_lng\n",
    "    \n",
    "    print d\n",
    "    \n",
    "    return d\n",
    "     \n",
    "projected_bus_stops = [update(stop) for stop in BusStops]\n"
   ]
  },
  {
   "cell_type": "code",
   "execution_count": null,
   "metadata": {
    "collapsed": false
   },
   "outputs": [],
   "source": [
    "# Update stops with the heading...\n",
    "def update_heading(stop, headings):\n",
    "    def zero_threesixty(n):\n",
    "        while n < 0:\n",
    "            n += 360\n",
    "        while n > 360:\n",
    "            n -= 360\n",
    "        return n\n",
    "    \n",
    "    \n",
    "    if stop['BusStopCode'] not in headings:\n",
    "        print stop\n",
    "        return stop\n",
    "    \n",
    "    d = dict(stop.items())\n",
    "    d['Heading'] = zero_threesixty(headings[stop['BusStopCode']] / math.pi * 180)\n",
    "    \n",
    "    return d\n",
    "    \n",
    "    \n",
    "stops_with_heading = [update_heading(stop, all_headings) for stop in projected_bus_stops if stop['Longitude'] != 0]"
   ]
  },
  {
   "cell_type": "code",
   "execution_count": null,
   "metadata": {
    "collapsed": false
   },
   "outputs": [],
   "source": [
    "[s for s in stops_with_heading if 'Heading' in s][0]"
   ]
  },
  {
   "cell_type": "code",
   "execution_count": null,
   "metadata": {
    "collapsed": false
   },
   "outputs": [],
   "source": [
    "json.dump(stops_with_heading, open('./bus-stops-headings.json', 'w'))"
   ]
  },
  {
   "cell_type": "code",
   "execution_count": null,
   "metadata": {
    "collapsed": false
   },
   "outputs": [],
   "source": [
    "def comp_heading(x,y):\n",
    "    return math.atan2(x, y) / math.pi * 180\n",
    "\n",
    "comp_heading(0, 1)"
   ]
  },
  {
   "cell_type": "code",
   "execution_count": 25,
   "metadata": {
    "collapsed": false
   },
   "outputs": [],
   "source": [
    "points=[(1.29684825487647,103.85253591654006),(1.29770970610083,103.8532247463225),(1.29698951191332,103.85302201172507),(1.2966729849642,103.85441422464267),(1.29807216909408,103.84975607305783),(1.29948166696821,103.85092666701239),(1.2940020309036,103.85128983925452),(1.29276132399953,103.84983741344308),(1.29489484954945,103.85108138663934),(1.29250006522444,103.85145315468638),(1.29208221483052,103.85125994680256),(1.29043611099357,103.84712444398055),(1.29084476137495,103.84857901022669),(1.29044830830726,103.84875123545265),(1.28882717929599,103.8474938118651),(1.29043039362749,103.85026216508201),(1.2897807341128036,103.848908985756),(1.29197057108024,103.84328384973516),(1.29183939431601,103.84504089382705),(1.28118388885484,103.84105000000471),(1.28724656561704,103.84833343750249),(1.28293819129834,103.84254276754574),(1.28531114761754,103.84455070696784),(1.28676420118491,103.84575036447065),(1.28027629959632,103.84029791443083),(1.28398513155185,103.84527387289731),(1.28447078699184,103.84667079234325),(1.28165999996967,103.83801388886192),(1.28607055552165,103.83879166662209),(1.28475980959972,103.83405671725487),(1.28685859481289,103.83360028266564),(1.28837086415387,103.83349881780524),(1.28963300933974,103.83381241921823),(1.28984045728104,103.83411526676929),(1.28870976841461,103.83737276969174),(1.28901705678419,103.83994286096711),(1.2860773006121,103.84244788580838),(1.29734200002733,103.84904099999753),(1.29945446471936,103.85267983857253),(1.3006979578813294,103.85117982031835),(1.29831153783592,103.8452569595532),(1.29811014243867,103.84780636909545),(1.29821382250893,103.84936128375956),(1.29986928715834,103.84093746088925),(1.30027569326586,103.83877618459663),(1.30044251755834,103.83623804216019),(1.28045309423663,103.82638920754815),(1.28583847140468,103.83238179897589),(1.28572048365401,103.8285292287095),(1.28593135445772,103.82668969231534),(1.28599961406266,103.82748123930962),(1.28736808047078,103.82346004890803),(1.28848771148124,103.8209448467392),(1.28860026020096,103.81903121724014),(1.28928144532567,103.81662854691157),(1.29075499997303,103.81144166700754),(1.29032906602668,103.83111793441608),(1.2904161299801,103.82791431393503),(1.2906166672167,103.82362326803131),(1.29090335842692,103.82047232884216),(1.29115999997607,103.81757666701353),(1.29153833298318,103.81445166697797),(1.2918699745378,103.81440639448375),(1.29215855273858,103.81065866068086),(1.29677663321893,103.81007237550017),(1.29652831402079,103.81043015393529),(1.28365072319387,103.824502653383),(1.28906972186602,103.82559411728036),(1.28875832991208,103.82573455047122),(1.29680597432594,103.81169140516062),(1.29666888890258,103.81468924528275),(1.28105845355429,103.82528065411316),(1.29172303079906,103.82610949356565),(1.29328273601932,103.82663492676832),(1.29488000002792,103.82880805602646),(1.29616972198544,103.83255861099337),(1.29575111096804,103.83604111103381),(1.29578024244395,103.83961272081199),(1.29414162678811,103.84231209757696),(1.29350944398488,103.84272416702719),(1.29796011528522,103.83053183555204)]"
   ]
  },
  {
   "cell_type": "code",
   "execution_count": 26,
   "metadata": {
    "collapsed": false
   },
   "outputs": [
    {
     "name": "stderr",
     "output_type": "stream",
     "text": [
      "/usr/local/lib/python2.7/dist-packages/ipykernel/__main__.py:17: FutureWarning: line is deprecated. Use add_children(PolyLine) instead\n"
     ]
    },
    {
     "data": {
      "text/html": [
       "<div style=\"width:100%;\"><div style=\"position:relative;width:100%;height:0;padding-bottom:60%;\"><iframe src=\"data:text/html;base64,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\" style=\"position:absolute;width:100%;height:100%;left:0;top:0;\"></iframe></div></div>"
      ],
      "text/plain": [
       "<folium.folium.Map at 0x7f22766bf990>"
      ]
     },
     "execution_count": 26,
     "metadata": {},
     "output_type": "execute_result"
    }
   ],
   "source": [
    "import folium\n",
    "m=folium.Map(location=(1.38,103.8), zoom_start=12)\n",
    "\n",
    "def swap(x,y):\n",
    "    return (y,x)\n",
    "\n",
    "for p in points:\n",
    "    folium.Marker(location=p, popup='{},{}'.format(*p)).add_to(m)\n",
    "# m.simple_marker((1.28601166699569,103.84634666701143))\n",
    "\n",
    "start = swap(103.85253591654006,1.29684825487647)\n",
    "end = swap(103.81468924528275,1.29666888890258)\n",
    "\n",
    "folium.Marker(icon=folium.Icon(color='red'), location=start).add_to(m)\n",
    "folium.Marker(icon=folium.Icon(color='red'), location=end).add_to(m)\n",
    "\n",
    "m.line([[1.2968033896679187, 103.8525876965029],[1.2980506114225971, 103.85359161764961],[1.298528938707611, 103.85397923411382],[1.298453315312862, 103.85407292516693],[1.296832627732291, 103.85279570935955],[1.295942842124615, 103.85197763559172],[1.2948358720876845, 103.85092803502667],[1.2945691412963527, 103.85071532094588],[1.294464460636626, 103.8506316881768],[1.2931762552226242, 103.84992909841081],[1.2925723856517461, 103.84967279843255],[1.2920974111280756, 103.84950292519115],[1.2910049697236337, 103.84897058119559],[1.2904741158442374, 103.84865765680352],[1.2900993516318355, 103.84837099570865],[1.2899896418300936, 103.84828289259113],[1.2894902666544228, 103.84789024698489],[1.2885673259623496, 103.8471662367992],[1.2873804484467308, 103.84614662482173],[1.2872891788323786, 103.84608236356263],[1.2873955358727769, 103.84592813654083],[1.2879895334241436, 103.84502084206837],[1.2888370369859867, 103.84396788874197],[1.289324491232436, 103.84323717303359],[1.2898540412601986, 103.84242654984652],[1.2899415855841694, 103.84221830611419],[1.2899255668355278, 103.84214696680338],[1.2899050777384284, 103.84211753700936],[1.2898465906794352, 103.84206482415046],[1.2885645319945633, 103.8413508722488],[1.2882489998992308, 103.84121452662083],[1.2883281623198426, 103.84111878665801],[1.2886613895444883, 103.8407741972977],[1.2888824855286438, 103.8404832521189],[1.2890277718535312, 103.84022620708257],[1.289091474319059, 103.8399972879886],[1.2890860726480053, 103.8397484385911],[1.2890441631312108, 103.83952752887147],[1.2888232534115744, 103.83893371758462],[1.2887789224560318, 103.8387686872207],[1.2887358953521229, 103.83847904589354],[1.288733846442413, 103.83812532957178],[1.2888415073344448, 103.83688052379073],[1.288932031890721, 103.83631763241405],[1.2890581329701423, 103.83577318122477],[1.2892831405091987, 103.83502383906448],[1.2895910357592486, 103.83415081726352],[1.289914763493421, 103.83332473412136],[1.2900352766372698, 103.83327611908189],[1.2897609339781309, 103.83408839472453]]\n",
    ")\n",
    "m"
   ]
  },
  {
   "cell_type": "code",
   "execution_count": 4,
   "metadata": {
    "collapsed": false
   },
   "outputs": [
    {
     "data": {
      "text/plain": [
       "'0.1.6'"
      ]
     },
     "execution_count": 4,
     "metadata": {},
     "output_type": "execute_result"
    }
   ],
   "source": [
    "folium.__version__"
   ]
  },
  {
   "cell_type": "code",
   "execution_count": 1,
   "metadata": {
    "collapsed": false
   },
   "outputs": [
    {
     "data": {
      "text/plain": [
       "'0.2.1'"
      ]
     },
     "execution_count": 1,
     "metadata": {},
     "output_type": "execute_result"
    }
   ],
   "source": [
    "import folium\n",
    "folium.__version__"
   ]
  },
  {
   "cell_type": "code",
   "execution_count": null,
   "metadata": {
    "collapsed": true
   },
   "outputs": [],
   "source": []
  }
 ],
 "metadata": {
  "kernelspec": {
   "display_name": "Python 2",
   "language": "python",
   "name": "python2"
  },
  "language_info": {
   "codemirror_mode": {
    "name": "ipython",
    "version": 2
   },
   "file_extension": ".py",
   "mimetype": "text/x-python",
   "name": "python",
   "nbconvert_exporter": "python",
   "pygments_lexer": "ipython2",
   "version": "2.7.12"
  }
 },
 "nbformat": 4,
 "nbformat_minor": 0
}
